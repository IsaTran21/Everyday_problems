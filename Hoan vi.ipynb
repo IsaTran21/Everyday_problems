{
  "nbformat": 4,
  "nbformat_minor": 0,
  "metadata": {
    "colab": {
      "provenance": []
    },
    "kernelspec": {
      "name": "python3",
      "display_name": "Python 3"
    },
    "language_info": {
      "name": "python"
    }
  },
  "cells": [
    {
      "cell_type": "markdown",
      "source": [
        "Problem: Tổng của tất cả các số tự nhiên gồm năm chữ số khác nhau được tạo thành bằng cách sử dụng các chữ số 1, 2, 3, 4, 5 là bao nhiêu?"
      ],
      "metadata": {
        "id": "qWSqafMV9sW7"
      }
    },
    {
      "cell_type": "code",
      "execution_count": 14,
      "metadata": {
        "colab": {
          "base_uri": "https://localhost:8080/"
        },
        "id": "Zs6jYlEb6TKE",
        "outputId": "e6c8e563-652d-4721-c98b-d5e11b4a8c38"
      },
      "outputs": [
        {
          "output_type": "stream",
          "name": "stdout",
          "text": [
            "Result 3999960\n"
          ]
        }
      ],
      "source": [
        "a = [1,2,3,4,5]\n",
        "l = []\n",
        "\n",
        "for i1 in a:\n",
        "  for i2 in a:\n",
        "    if i2 != i1:\n",
        "      for i3 in a:\n",
        "        if i3 != i1 and i3 != i2:\n",
        "          for i4 in a:\n",
        "            if i4 != i1 and i4 != i2 and i4 != i3:\n",
        "              j = ''\n",
        "              for i5 in a:\n",
        "                if i5 != i1 and i5 != i2 and i5 != i3 and i5 != i4:\n",
        "                  j += str(i1)+str(i2)+str(i3)+str(i4)+str(i5)\n",
        "                  l.append(int(j))\n",
        "          else: continue\n",
        "        else: continue\n",
        "      else: continue\n",
        "    else: continue\n",
        "  else: continue\n",
        "\n",
        "print(\"Result\", sum(l))"
      ]
    }
  ]
}